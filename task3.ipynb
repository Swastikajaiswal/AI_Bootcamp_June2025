{
  "nbformat": 4,
  "nbformat_minor": 0,
  "metadata": {
    "colab": {
      "provenance": []
    },
    "kernelspec": {
      "name": "python3",
      "display_name": "Python 3"
    },
    "language_info": {
      "name": "python"
    }
  },
  "cells": [
    {
      "cell_type": "code",
      "execution_count": 2,
      "metadata": {
        "colab": {
          "base_uri": "https://localhost:8080/"
        },
        "id": "Z5kowfKAsrL-",
        "outputId": "f3d783c5-e2c0-4dc6-f096-ce578e4a6f3c"
      },
      "outputs": [
        {
          "output_type": "stream",
          "name": "stdout",
          "text": [
            "Simple Calculator\n",
            "--------------------\n",
            "1. Addition (+)\n",
            "2. Subtraction (-)\n",
            "3. Multiplication (*)\n",
            "4. Division (/)\n",
            "5. Modulus (%)\n",
            "6. Exit\n",
            "Enter your choice (1-6): 1\n",
            "Enter first number: 1\n",
            "Enter second number: 45\n",
            "Result: 46.0\n",
            "\n",
            "Simple Calculator\n",
            "--------------------\n",
            "1. Addition (+)\n",
            "2. Subtraction (-)\n",
            "3. Multiplication (*)\n",
            "4. Division (/)\n",
            "5. Modulus (%)\n",
            "6. Exit\n",
            "Enter your choice (1-6): 6\n",
            "Exiting the calculator.\n"
          ]
        }
      ],
      "source": [
        "def add(x, y):\n",
        "    return x + y\n",
        "\n",
        "def subtract(x, y):\n",
        "    return x - y\n",
        "\n",
        "def multiply(x, y):\n",
        "    return x * y\n",
        "\n",
        "def divide(x, y):\n",
        "    if y != 0:\n",
        "        return x / y\n",
        "    else:\n",
        "        return \"Error: Division by zero\"\n",
        "\n",
        "def modulus(x, y):\n",
        "    if y != 0:\n",
        "        return x % y\n",
        "    else:\n",
        "        return \"Error: Modulus by zero\"\n",
        "\n",
        "\n",
        "def display_menu():\n",
        "    print(\"Simple Calculator\")\n",
        "    print(\"--------------------\")\n",
        "    print(\"1. Addition (+)\")\n",
        "    print(\"2. Subtraction (-)\")\n",
        "    print(\"3. Multiplication (*)\")\n",
        "    print(\"4. Division (/)\")\n",
        "    print(\"5. Modulus (%)\")\n",
        "    print(\"6. Exit\")\n",
        "\n",
        "\n",
        "while True:\n",
        "    display_menu()\n",
        "    choice = input(\"Enter your choice (1-6): \")\n",
        "\n",
        "    if choice == '6':\n",
        "        print(\"Exiting the calculator.\")\n",
        "        break\n",
        "\n",
        "\n",
        "    try:\n",
        "        num1 = float(input(\"Enter first number: \"))\n",
        "        num2 = float(input(\"Enter second number: \"))\n",
        "    except ValueError:\n",
        "        print(\"Invalid input! Please enter numeric values.\\n\")\n",
        "        continue\n",
        "\n",
        "    if choice == '1':\n",
        "        print(\"Result:\", add(num1, num2))\n",
        "    elif choice == '2':\n",
        "        print(\"Result:\", subtract(num1, num2))\n",
        "    elif choice == '3':\n",
        "        print(\"Result:\", multiply(num1, num2))\n",
        "    elif choice == '4':\n",
        "        print(\"Result:\", divide(num1, num2))\n",
        "    elif choice == '5':\n",
        "        print(\"Result:\", modulus(num1, num2))\n",
        "    else:\n",
        "        print(\"Invalid choice! Please enter a number from 1 to 6.\")\n",
        "\n",
        "    print()"
      ]
    }
  ]
}